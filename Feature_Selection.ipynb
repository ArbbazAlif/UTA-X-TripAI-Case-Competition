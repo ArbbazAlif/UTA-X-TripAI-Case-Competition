{
 "cells": [
  {
   "cell_type": "code",
   "execution_count": null,
   "id": "099c8a5b-342c-4e6c-a271-a1f65d918041",
   "metadata": {},
   "outputs": [],
   "source": [
    "import pandas as pd\n",
    "from sklearn.preprocessing import LabelEncoder\n",
    "\n",
    "# Load dataset\n",
    "file_path = \"C:/Users/yamin/Downloads/UTA-Student-Competition-2025-data.csv\"\n",
    "df = pd.read_csv(file_path)\n",
    "\n",
    "# Drop unnecessary columns\n",
    "df.drop(columns=[\"SERVICE_SUFFIX\", \"FLIGHT_NUMBER\"], inplace=True)\n",
    "\n",
    "# Convert date column to datetime format\n",
    "df[\"SCHEDULED_DEPARTURE_DATE\"] = pd.to_datetime(df[\"SCHEDULED_DEPARTURE_DATE\"])\n",
    "\n",
    "# Extract date-related features\n",
    "df[\"DEPARTURE_DAY\"] = df[\"SCHEDULED_DEPARTURE_DATE\"].dt.dayofweek  # 0 = Monday, 6 = Sunday\n",
    "df[\"DEPARTURE_MONTH\"] = df[\"SCHEDULED_DEPARTURE_DATE\"].dt.month\n",
    "\n",
    "df.drop(columns=[\"SCHEDULED_DEPARTURE_DATE\"], inplace=True)\n",
    "\n",
    "# Create route feature\n",
    "df[\"ROUTE\"] = df[\"DEPARTURE_AIRPORT\"] + \"_\" + df[\"ARRIVAL_AIRPORT\"]\n",
    "df.drop(columns=[\"DEPARTURE_AIRPORT\", \"ARRIVAL_AIRPORT\"], inplace=True)\n",
    "\n",
    "# Encode categorical features\n",
    "encoder = LabelEncoder()\n",
    "df[\"AIRCRAFT_TYPE\"] = encoder.fit_transform(df[\"AIRCRAFT_TYPE\"])\n",
    "df[\"ROUTE\"] = encoder.fit_transform(df[\"ROUTE\"])\n",
    "\n",
    "# Create fuel burn efficiency features\n",
    "df[\"FUEL_BURN_TAXI_RATIO\"] = df[\"ESTIMATED_FUEL_BURN_TAXI_OUT_TONNES\"] / df[\"ESTIMATED_FUEL_BURN_TOTAL_TONNES\"]\n",
    "df[\"FUEL_BURN_TAKEOFF_RATIO\"] = df[\"ESTIMATED_FUEL_BURN_TAKEOFF_TONNES\"] / df[\"ESTIMATED_FUEL_BURN_TOTAL_TONNES\"]\n",
    "df[\"FUEL_BURN_CRUISE_RATIO\"] = df[\"ESTIMATED_FUEL_BURN_CRUISE_TONNES\"] / df[\"ESTIMATED_FUEL_BURN_TOTAL_TONNES\"]\n",
    "\n",
    "# Create CO2 efficiency features\n",
    "df[\"CO2_TAXI_RATIO\"] = df[\"ESTIMATED_CO2_TAXI_OUT_TONNES\"] / df[\"ESTIMATED_CO2_TOTAL_TONNES\"]\n",
    "df[\"CO2_TAKEOFF_RATIO\"] = df[\"ESTIMATED_CO2_TAKEOFF_TONNES\"] / df[\"ESTIMATED_CO2_TOTAL_TONNES\"]\n",
    "df[\"CO2_CRUISE_RATIO\"] = df[\"ESTIMATED_CO2_CRUISE_TONNES\"] / df[\"ESTIMATED_CO2_TOTAL_TONNES\"]\n",
    "\n",
    "# Handle potential NaN values\n",
    "df.fillna(0, inplace=True)\n",
    "\n",
    "# Save processed data\n",
    "df.to_csv(\"processed_data.csv\", index=False)\n",
    "\n",
    "print(\"Feature engineering complete. Processed dataset saved as 'processed_data.csv'.\")\n"
   ]
  }
 ],
 "metadata": {
  "kernelspec": {
   "display_name": "Python 3 (ipykernel)",
   "language": "python",
   "name": "python3"
  },
  "language_info": {
   "codemirror_mode": {
    "name": "ipython",
    "version": 3
   },
   "file_extension": ".py",
   "mimetype": "text/x-python",
   "name": "python",
   "nbconvert_exporter": "python",
   "pygments_lexer": "ipython3",
   "version": "3.12.7"
  }
 },
 "nbformat": 4,
 "nbformat_minor": 5
}
